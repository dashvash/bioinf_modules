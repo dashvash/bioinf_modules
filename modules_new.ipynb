{
 "cells": [
  {
   "cell_type": "code",
   "execution_count": 32,
   "metadata": {},
   "outputs": [],
   "source": [
    "from abc import ABC, abstractmethod\n",
    "from Bio import SeqIO\n",
    "from Bio.Seq import Seq\n",
    "from Bio.SeqRecord import SeqRecord\n",
    "from Bio.SeqUtils import gc_fraction"
   ]
  },
  {
   "cell_type": "code",
   "execution_count": 33,
   "metadata": {},
   "outputs": [],
   "source": [
    "class BiologicalSequence(ABC):\n",
    "    def __init__(self, seq: str):\n",
    "        self.seq = seq\n",
    "        self.length = len(self.seq)\n",
    "        if not self.is_bioseq():\n",
    "            raise ValueError(\"This is not biosequence\")\n",
    "        \n",
    "    def seqindex(self, index):\n",
    "        return self.seq[index]\n",
    "    \n",
    "    def __repr__(self):\n",
    "        return f\"Your sequence: {self.seq}\"\n",
    "    \n",
    "    @abstractmethod\n",
    "    def is_bioseq(self):\n",
    "        pass\n",
    "\n",
    "\n",
    "class NucleicAcidSequence(BiologicalSequence):\n",
    "    def is_bioseq(self):\n",
    "        alphabet = {'a', 'u', 'c', 'g', 't'}\n",
    "        return set(self.seq.lower()).issubset(alphabet)\n",
    "    \n",
    "    COMPLEMENT = {'A': 'T', 'a': 't',\n",
    "                  'C': 'G', 'c': 'g',\n",
    "                  'T': 'A', 't': 'a',\n",
    "                  'G': 'C', 'g': 'c',\n",
    "                  'U': 'A', 'u': 'a'}\n",
    "          \n",
    "    def complement(self):    \n",
    "        return ''.join(self.COMPLEMENT[i] for i in self.seq)\n",
    "\n",
    "    def reverse(self):\n",
    "        return self.seq[::-1]\n",
    "\n",
    "    def reverse_complement(self):\n",
    "        return ''.join(self.COMPLEMENT[i] for i in self.seq[::-1])\n",
    "\n",
    "\n",
    "class DNASequence(NucleicAcidSequence):\n",
    "    def transcribe(self):\n",
    "        DNAtoRNA = {'A': 'U', 'T': 'A', 'C': 'G', 'G': 'C', 'a': 'u', 't': 'a', 'c': 'g', 'g': 'c'}\n",
    "        return ''.join(DNAtoRNA[i] for i in self.seq)\n",
    "\n",
    "\n",
    "class RNASequence(NucleicAcidSequence):\n",
    "    pass\n",
    "\n",
    "class AminoAcidSequence(BiologicalSequence):\n",
    "    def is_bioseq(self):\n",
    "        alphabet = {'g', 'a', 'v', 'l', 'i',\n",
    "                    'c', 'm', 's', 't', 'f',\n",
    "                    'y', 'w', 'd', 'e', 'n',\n",
    "                    'q', 'h', 'k', 'r', 'p'}\n",
    "        return set(self.seq.lower()).issubset(alphabet)\n",
    "    "
   ]
  },
  {
   "cell_type": "code",
   "execution_count": 25,
   "metadata": {},
   "outputs": [],
   "source": [
    "my_dna = DNASequence('ataTTgaC')"
   ]
  },
  {
   "cell_type": "code",
   "execution_count": 26,
   "metadata": {},
   "outputs": [
    {
     "data": {
      "text/plain": [
       "Your sequence: ataTTgaC"
      ]
     },
     "execution_count": 26,
     "metadata": {},
     "output_type": "execute_result"
    }
   ],
   "source": [
    "my_dna"
   ]
  },
  {
   "cell_type": "code",
   "execution_count": 27,
   "metadata": {},
   "outputs": [
    {
     "data": {
      "text/plain": [
       "'CagTTata'"
      ]
     },
     "execution_count": 27,
     "metadata": {},
     "output_type": "execute_result"
    }
   ],
   "source": [
    "my_dna.reverse()"
   ]
  },
  {
   "cell_type": "code",
   "execution_count": 28,
   "metadata": {},
   "outputs": [
    {
     "data": {
      "text/plain": [
       "'uauAAcuG'"
      ]
     },
     "execution_count": 28,
     "metadata": {},
     "output_type": "execute_result"
    }
   ],
   "source": [
    "my_dna.transcribe()"
   ]
  },
  {
   "cell_type": "code",
   "execution_count": 29,
   "metadata": {},
   "outputs": [
    {
     "data": {
      "text/plain": [
       "'tatAActG'"
      ]
     },
     "execution_count": 29,
     "metadata": {},
     "output_type": "execute_result"
    }
   ],
   "source": [
    "my_dna.complement()"
   ]
  },
  {
   "cell_type": "code",
   "execution_count": 30,
   "metadata": {},
   "outputs": [
    {
     "data": {
      "text/plain": [
       "'GtcAAtat'"
      ]
     },
     "execution_count": 30,
     "metadata": {},
     "output_type": "execute_result"
    }
   ],
   "source": [
    "my_dna.reverse_complement()"
   ]
  },
  {
   "cell_type": "code",
   "execution_count": 4,
   "metadata": {},
   "outputs": [],
   "source": [
    "def filter_fastq(input_fastq, gc_bounds=(0, 100),\n",
    "                 length_bounds=(0, 2**32),\n",
    "                 quality_threshold=0, output_fastq='filtered_file'):\n",
    "    \"\"\" Function to filter sequences by the given parameter's values\n",
    "    Args:\n",
    "        input_fastq: path to a fastq-file to be filtered\n",
    "        gc_bounds(tuple/int/float): interval for GC % value\n",
    "        or the upper limit if int/float\n",
    "        length_bounds(tuple/int/float): interval for length value\n",
    "        or the upper limit if int/float\n",
    "        quality_threshold(int, float): average read\n",
    "        quality threshold for filtering\n",
    "        output_fastq: name for the output file\n",
    "        created in /filtered/. Default name is filtered_file.\n",
    "    \"\"\"\n",
    "    full_path = os.path.abspath(__file__)\n",
    "    path = os.path.dirname(full_path)\n",
    "    os.makedirs(os.path.join(path, 'filtered'), exist_ok=True)\n",
    "    with open(os.path.join(path, 'filtered', output_fastq), \"a\") as output_file:\n",
    "        filter_result = []\n",
    "        for rec in SeqIO.parse(input_fastq, \"fastq\"):\n",
    "            length = len(rec.seq)\n",
    "            mean_qual = mean(record.letter_annotations[\"phred_quality\"])\n",
    "            gc_content = gc_fraction(rec.seq) * 100\n",
    "\n",
    "            if (length_bounds[0] <= length <= length_bounds[1]\n",
    "                and mean_qual > quality_threshold\n",
    "                and gc_bounds[0] <= gc_content <= gc_bounds[1]\n",
    "                ):\n",
    "                filter_result.append(SeqRecord(rec.seq,\n",
    "                                    id=rec.id,\n",
    "                                    letter_annotations=rec.letter_annotations))\n",
    "        SeqIO.write(filter_result, output_file, \"fastq\")"
   ]
  }
 ],
 "metadata": {
  "kernelspec": {
   "display_name": "Python 3 (ipykernel)",
   "language": "python",
   "name": "python3"
  },
  "language_info": {
   "codemirror_mode": {
    "name": "ipython",
    "version": 3
   },
   "file_extension": ".py",
   "mimetype": "text/x-python",
   "name": "python",
   "nbconvert_exporter": "python",
   "pygments_lexer": "ipython3",
   "version": "3.10.13"
  }
 },
 "nbformat": 4,
 "nbformat_minor": 4
}
